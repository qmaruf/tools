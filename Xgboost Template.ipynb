{
 "cells": [
  {
   "cell_type": "code",
   "execution_count": 1,
   "metadata": {
    "collapsed": false
   },
   "outputs": [
    {
     "name": "stderr",
     "output_type": "stream",
     "text": [
      "/home/maruf/anaconda2/lib/python2.7/site-packages/sklearn/cross_validation.py:44: DeprecationWarning: This module was deprecated in version 0.18 in favor of the model_selection module into which all the refactored classes and functions are moved. Also note that the interface of the new CV iterators are different from that of this module. This module will be removed in 0.20.\n",
      "  \"This module will be removed in 0.20.\", DeprecationWarning)\n"
     ]
    }
   ],
   "source": [
    "import pandas as pd\n",
    "import xgboost as xgb\n",
    "import numpy as np\n",
    "from sklearn.model_selection import StratifiedKFold"
   ]
  },
  {
   "cell_type": "code",
   "execution_count": 2,
   "metadata": {
    "collapsed": true
   },
   "outputs": [],
   "source": [
    "train = pd.read_csv('../input/train.csv', nrows=1000)\n",
    "test = pd.read_csv('../input/test.csv', nrows=1000)"
   ]
  },
  {
   "cell_type": "code",
   "execution_count": 3,
   "metadata": {
    "collapsed": true
   },
   "outputs": [],
   "source": [
    "def preprocessing(train, test):\n",
    "    X = train.iloc[:, 2:]\n",
    "    y = train.target\n",
    "    test_id = test.id\n",
    "    test.drop('id', axis=1, inplace=True)\n",
    "    \n",
    "    # other preprocessing\n",
    "    \n",
    "    return X, y, test"
   ]
  },
  {
   "cell_type": "code",
   "execution_count": 4,
   "metadata": {
    "collapsed": false
   },
   "outputs": [],
   "source": [
    "X, y, test = preprocessing(train, test)"
   ]
  },
  {
   "cell_type": "code",
   "execution_count": 9,
   "metadata": {
    "collapsed": false
   },
   "outputs": [],
   "source": [
    "params = {\n",
    "        'objective':'binary:logistic',        \n",
    "        'max_depth':10,\n",
    "        'learning_rate':0.01,\n",
    "        'eval_metric':'auc',\n",
    "        'min_child_weight':6,\n",
    "        'subsample':0.8,\n",
    "        'colsample_bytree':0.8,\n",
    "        'seed':1971,\n",
    "        'reg_lambda':1.3,\n",
    "        'reg_alpha':8,\n",
    "        'gamma':10,\n",
    "        'scale_pos_weight':1.6,\n",
    "        'n_thread':-1\n",
    "    }"
   ]
  },
  {
   "cell_type": "code",
   "execution_count": 10,
   "metadata": {
    "collapsed": true
   },
   "outputs": [],
   "source": [
    "def create_feature_map(features):\n",
    "    outfile = open('xgb.fmap', 'w')\n",
    "    for i, feat in enumerate(features):\n",
    "        outfile.write('{0}\\t{1}\\tq\\n'.format(i, feat))\n",
    "    outfile.close()"
   ]
  },
  {
   "cell_type": "code",
   "execution_count": 11,
   "metadata": {
    "collapsed": false
   },
   "outputs": [
    {
     "name": "stdout",
     "output_type": "stream",
     "text": [
      "[0]\ttrain-auc:0.5\ttest-auc:0.5\n",
      "Multiple eval metrics have been passed: 'test-auc' will be used for early stopping.\n",
      "\n",
      "Will train until test-auc hasn't improved in 256 rounds.\n",
      "[50]\ttrain-auc:0.5\ttest-auc:0.5\n",
      "[100]\ttrain-auc:0.5\ttest-auc:0.5\n",
      "[150]\ttrain-auc:0.5\ttest-auc:0.5\n",
      "[200]\ttrain-auc:0.625093\ttest-auc:0.617552\n",
      "[250]\ttrain-auc:0.625093\ttest-auc:0.617552\n",
      "[300]\ttrain-auc:0.625093\ttest-auc:0.617552\n",
      "[350]\ttrain-auc:0.625093\ttest-auc:0.617552\n",
      "[400]\ttrain-auc:0.625093\ttest-auc:0.617552\n",
      "Stopping. Best iteration:\n",
      "[151]\ttrain-auc:0.625093\ttest-auc:0.617552\n",
      "\n",
      "[0]\ttrain-auc:0.5\ttest-auc:0.5\n",
      "Multiple eval metrics have been passed: 'test-auc' will be used for early stopping.\n",
      "\n",
      "Will train until test-auc hasn't improved in 256 rounds.\n",
      "[50]\ttrain-auc:0.5\ttest-auc:0.5\n",
      "[100]\ttrain-auc:0.5\ttest-auc:0.5\n",
      "[150]\ttrain-auc:0.5\ttest-auc:0.5\n",
      "[200]\ttrain-auc:0.5\ttest-auc:0.5\n",
      "[250]\ttrain-auc:0.5\ttest-auc:0.5\n",
      "Stopping. Best iteration:\n",
      "[0]\ttrain-auc:0.5\ttest-auc:0.5\n",
      "\n",
      "[0]\ttrain-auc:0.5\ttest-auc:0.5\n",
      "Multiple eval metrics have been passed: 'test-auc' will be used for early stopping.\n",
      "\n",
      "Will train until test-auc hasn't improved in 256 rounds.\n",
      "[50]\ttrain-auc:0.5\ttest-auc:0.5\n",
      "[100]\ttrain-auc:0.5\ttest-auc:0.5\n",
      "[150]\ttrain-auc:0.5\ttest-auc:0.5\n",
      "[200]\ttrain-auc:0.5\ttest-auc:0.5\n",
      "[250]\ttrain-auc:0.5\ttest-auc:0.5\n",
      "Stopping. Best iteration:\n",
      "[0]\ttrain-auc:0.5\ttest-auc:0.5\n",
      "\n",
      "[0]\ttrain-auc:0.5\ttest-auc:0.5\n",
      "Multiple eval metrics have been passed: 'test-auc' will be used for early stopping.\n",
      "\n",
      "Will train until test-auc hasn't improved in 256 rounds.\n",
      "[50]\ttrain-auc:0.5\ttest-auc:0.5\n",
      "[100]\ttrain-auc:0.5\ttest-auc:0.5\n",
      "[150]\ttrain-auc:0.634264\ttest-auc:0.57809\n",
      "[200]\ttrain-auc:0.634264\ttest-auc:0.57809\n",
      "[250]\ttrain-auc:0.634264\ttest-auc:0.57809\n",
      "[300]\ttrain-auc:0.634264\ttest-auc:0.57809\n",
      "[350]\ttrain-auc:0.634264\ttest-auc:0.57809\n",
      "Stopping. Best iteration:\n",
      "[138]\ttrain-auc:0.634264\ttest-auc:0.57809\n",
      "\n",
      "[0]\ttrain-auc:0.5\ttest-auc:0.5\n",
      "Multiple eval metrics have been passed: 'test-auc' will be used for early stopping.\n",
      "\n",
      "Will train until test-auc hasn't improved in 256 rounds.\n",
      "[50]\ttrain-auc:0.5\ttest-auc:0.5\n",
      "[100]\ttrain-auc:0.5\ttest-auc:0.5\n",
      "[150]\ttrain-auc:0.5\ttest-auc:0.5\n",
      "[200]\ttrain-auc:0.5\ttest-auc:0.5\n",
      "[250]\ttrain-auc:0.5\ttest-auc:0.5\n",
      "Stopping. Best iteration:\n",
      "[0]\ttrain-auc:0.5\ttest-auc:0.5\n",
      "\n"
     ]
    }
   ],
   "source": [
    "def do_xgb(X, y, test, n_splits):\n",
    "    skf = StratifiedKFold(n_splits=n_splits)\n",
    "    skf.get_n_splits(X, y)\n",
    "    prediction = 0\n",
    "    oof_train = pd.DataFrame(np.zeros((X.shape[0], 1)))\n",
    "    oof_test = pd.DataFrame(np.zeros((test.shape[0], 1)))\n",
    "    scores = []\n",
    "    feature_imp = 0\n",
    "    for train_index, test_index in skf.split(X, y):   \n",
    "       X_train, X_test = X.iloc[train_index, :], X.iloc[test_index, :]\n",
    "       y_train, y_test = y[train_index], y[test_index]\n",
    "       train_data = xgb.DMatrix(X_train, y_train)\n",
    "       valid_data = xgb.DMatrix(X_test, y_test)\n",
    "       watchlist = [(train_data,'train'),(valid_data,'test')]\n",
    "       model = xgb.train(params, \n",
    "                         train_data, \n",
    "                         2500,\n",
    "                         watchlist, \n",
    "                         verbose_eval=50,                               \n",
    "                         early_stopping_rounds=256)       \n",
    "       scores.append(model.best_score)\n",
    "       prediction += model.predict(xgb.DMatrix(test), ntree_limit=model.best_ntree_limit)\n",
    "       oof_train.iloc[test_index, 0] = model.predict(xgb.DMatrix(X_test), ntree_limit=model.best_ntree_limit)\n",
    "       \n",
    "\n",
    "    prediction /= n_splits\n",
    "    feature_imp /= n_splits\n",
    "    score = np.mean(scores)\n",
    "    var = np.var(scores)\n",
    "\n",
    "    oof_test = pd.DataFrame(prediction)\n",
    "\n",
    "    return prediction, feature_imp, score, var, oof_train, oof_test\n",
    "\n",
    "prediction, feature_imp, score, variance, oof_train, oof_test = do_xgb(X, y, test, 5)"
   ]
  },
  {
   "cell_type": "code",
   "execution_count": null,
   "metadata": {
    "collapsed": true
   },
   "outputs": [],
   "source": []
  }
 ],
 "metadata": {
  "kernelspec": {
   "display_name": "Python 2",
   "language": "python",
   "name": "python2"
  },
  "language_info": {
   "codemirror_mode": {
    "name": "ipython",
    "version": 2
   },
   "file_extension": ".py",
   "mimetype": "text/x-python",
   "name": "python",
   "nbconvert_exporter": "python",
   "pygments_lexer": "ipython2",
   "version": "2.7.12"
  }
 },
 "nbformat": 4,
 "nbformat_minor": 0
}
