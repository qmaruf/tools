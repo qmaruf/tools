{
 "cells": [
  {
   "cell_type": "code",
   "execution_count": 45,
   "metadata": {
    "collapsed": true
   },
   "outputs": [],
   "source": [
    "import glob\n",
    "import shutil\n",
    "import os\n",
    "from tqdm import tqdm\n",
    "import cv2\n",
    "from tqdm import tqdm\n",
    "import sys"
   ]
  },
  {
   "cell_type": "code",
   "execution_count": 41,
   "metadata": {
    "collapsed": true
   },
   "outputs": [],
   "source": [
    "template = '<annotation>\\\n",
    "<folder>jpg</folder>\\\n",
    "<filename>%s</filename>\\\n",
    "<source>\\\n",
    "<database>jpg Database</database>\\\n",
    "<annotation>jpg</annotation>\\\n",
    "<image>jpg</image>\\\n",
    "</source>\\\n",
    "<size>\\\n",
    "<width>%d</width>\\\n",
    "<height>%d</height>\\\n",
    "<depth>3</depth>\\\n",
    "</size>\\\n",
    "<segmented>0</segmented>\\\n",
    "%s\\\n",
    "</annotation>'"
   ]
  },
  {
   "cell_type": "code",
   "execution_count": 42,
   "metadata": {
    "collapsed": true
   },
   "outputs": [],
   "source": [
    "face_position = '<object>\\\n",
    "<name>NP</name>\\\n",
    "<pose>Frontal</pose>\\\n",
    "<truncated>0</truncated>\\\n",
    "<difficult>0</difficult>\\\n",
    "<bndbox>\\\n",
    "<xmin>%s</xmin>\\\n",
    "<ymin>%s</ymin>\\\n",
    "<xmax>%s</xmax>\\\n",
    "<ymax>%s</ymax>\\\n",
    "</bndbox>\\\n",
    "</object>'"
   ]
  },
  {
   "cell_type": "code",
   "execution_count": 46,
   "metadata": {
    "collapsed": false
   },
   "outputs": [
    {
     "name": "stderr",
     "output_type": "stream",
     "text": [
      "12880it [01:32, 139.86it/s]\n"
     ]
    }
   ],
   "source": [
    "fp = open('./wider_face_gt/wider_face_train_bbx_gt.txt')\n",
    "\n",
    "wider_face_db_path = \"\" \n",
    "wider_face_annotation_path = \"\" \n",
    "\n",
    "def get_size(fname):\n",
    "    fpath = '%s%s'%(wider_face_db_path, fname)    \n",
    "    img = cv2.imread(fpath)    \n",
    "    return img.shape[0], img.shape[1]\n",
    "\n",
    "for line in tqdm(fp):\n",
    "    line = line.rstrip()\n",
    "    if 'jpg' in line:\n",
    "        fname = line.split('/')[1]                \n",
    "        n_face = int(next(fp))\n",
    "        f = \"\"\n",
    "        for i in range(n_face):\n",
    "            parts = next(fp).split()\n",
    "            f += face_position%(parts[0], parts[1], parts[2], parts[3])            \n",
    "        width, height = get_size(fname)\n",
    "        T = template%(fname, width, height, f)                \n",
    "        annotation_fp = open('%s%s.xml'%(wider_face_annotation_path, fname[:-3]), 'w')\n",
    "        annotation_fp.write(T)\n",
    "        annotation_fp.close()"
   ]
  },
  {
   "cell_type": "code",
   "execution_count": null,
   "metadata": {
    "collapsed": true
   },
   "outputs": [],
   "source": []
  }
 ],
 "metadata": {
  "kernelspec": {
   "display_name": "Python 2",
   "language": "python",
   "name": "python2"
  },
  "language_info": {
   "codemirror_mode": {
    "name": "ipython",
    "version": 2
   },
   "file_extension": ".py",
   "mimetype": "text/x-python",
   "name": "python",
   "nbconvert_exporter": "python",
   "pygments_lexer": "ipython2",
   "version": "2.7.12"
  }
 },
 "nbformat": 4,
 "nbformat_minor": 2
}
